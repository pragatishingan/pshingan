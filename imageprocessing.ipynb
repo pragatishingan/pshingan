{
 "cells": [
  {
   "cell_type": "code",
   "execution_count": 1,
   "id": "b80c425a-394e-49a9-913e-4e8cef774ae1",
   "metadata": {},
   "outputs": [
    {
     "name": "stdout",
     "output_type": "stream",
     "text": [
      "Requirement already satisfied: numpy in c:\\users\\krush\\anaconda3\\lib\\site-packages (1.26.4)\n",
      "Requirement already satisfied: matplotlib in c:\\users\\krush\\anaconda3\\lib\\site-packages (3.9.2)\n",
      "Requirement already satisfied: contourpy>=1.0.1 in c:\\users\\krush\\anaconda3\\lib\\site-packages (from matplotlib) (1.2.0)\n",
      "Requirement already satisfied: cycler>=0.10 in c:\\users\\krush\\anaconda3\\lib\\site-packages (from matplotlib) (0.11.0)\n",
      "Requirement already satisfied: fonttools>=4.22.0 in c:\\users\\krush\\anaconda3\\lib\\site-packages (from matplotlib) (4.51.0)\n",
      "Requirement already satisfied: kiwisolver>=1.3.1 in c:\\users\\krush\\anaconda3\\lib\\site-packages (from matplotlib) (1.4.4)\n",
      "Requirement already satisfied: numpy>=1.23 in c:\\users\\krush\\anaconda3\\lib\\site-packages (from matplotlib) (1.26.4)\n",
      "Requirement already satisfied: packaging>=20.0 in c:\\users\\krush\\anaconda3\\lib\\site-packages (from matplotlib) (24.1)\n",
      "Requirement already satisfied: pillow>=8 in c:\\users\\krush\\anaconda3\\lib\\site-packages (from matplotlib) (10.4.0)\n",
      "Requirement already satisfied: pyparsing>=2.3.1 in c:\\users\\krush\\anaconda3\\lib\\site-packages (from matplotlib) (3.1.2)\n",
      "Requirement already satisfied: python-dateutil>=2.7 in c:\\users\\krush\\anaconda3\\lib\\site-packages (from matplotlib) (2.9.0.post0)\n",
      "Requirement already satisfied: six>=1.5 in c:\\users\\krush\\anaconda3\\lib\\site-packages (from python-dateutil>=2.7->matplotlib) (1.16.0)\n",
      "Collecting opencv-python\n",
      "  Downloading opencv_python-4.11.0.86-cp37-abi3-win_amd64.whl.metadata (20 kB)\n",
      "Requirement already satisfied: numpy>=1.21.2 in c:\\users\\krush\\anaconda3\\lib\\site-packages (from opencv-python) (1.26.4)\n",
      "Downloading opencv_python-4.11.0.86-cp37-abi3-win_amd64.whl (39.5 MB)\n",
      "   ---------------------------------------- 0.0/39.5 MB ? eta -:--:--\n",
      "    --------------------------------------- 0.8/39.5 MB 5.6 MB/s eta 0:00:07\n",
      "   -- ------------------------------------- 2.6/39.5 MB 8.4 MB/s eta 0:00:05\n",
      "   --- ------------------------------------ 3.9/39.5 MB 8.1 MB/s eta 0:00:05\n",
      "   ----- ---------------------------------- 5.2/39.5 MB 6.9 MB/s eta 0:00:05\n",
      "   ------ --------------------------------- 6.3/39.5 MB 6.8 MB/s eta 0:00:05\n",
      "   ------- -------------------------------- 7.3/39.5 MB 6.6 MB/s eta 0:00:05\n",
      "   -------- ------------------------------- 8.7/39.5 MB 6.3 MB/s eta 0:00:05\n",
      "   ---------- ----------------------------- 10.0/39.5 MB 6.3 MB/s eta 0:00:05\n",
      "   ----------- ---------------------------- 11.3/39.5 MB 6.3 MB/s eta 0:00:05\n",
      "   ------------ --------------------------- 12.6/39.5 MB 6.3 MB/s eta 0:00:05\n",
      "   -------------- ------------------------- 13.9/39.5 MB 6.3 MB/s eta 0:00:05\n",
      "   --------------- ------------------------ 15.5/39.5 MB 6.4 MB/s eta 0:00:04\n",
      "   ---------------- ----------------------- 16.3/39.5 MB 6.2 MB/s eta 0:00:04\n",
      "   ----------------- ---------------------- 17.0/39.5 MB 6.1 MB/s eta 0:00:04\n",
      "   ------------------ --------------------- 17.8/39.5 MB 5.9 MB/s eta 0:00:04\n",
      "   ------------------ --------------------- 18.4/39.5 MB 5.7 MB/s eta 0:00:04\n",
      "   ------------------- -------------------- 18.9/39.5 MB 5.6 MB/s eta 0:00:04\n",
      "   -------------------- ------------------- 19.9/39.5 MB 5.4 MB/s eta 0:00:04\n",
      "   -------------------- ------------------- 20.4/39.5 MB 5.4 MB/s eta 0:00:04\n",
      "   --------------------- ------------------ 21.5/39.5 MB 5.2 MB/s eta 0:00:04\n",
      "   ---------------------- ----------------- 22.0/39.5 MB 5.2 MB/s eta 0:00:04\n",
      "   ----------------------- ---------------- 23.1/39.5 MB 5.1 MB/s eta 0:00:04\n",
      "   ------------------------ --------------- 23.9/39.5 MB 5.0 MB/s eta 0:00:04\n",
      "   ------------------------ --------------- 24.6/39.5 MB 5.0 MB/s eta 0:00:03\n",
      "   ------------------------- -------------- 25.4/39.5 MB 4.9 MB/s eta 0:00:03\n",
      "   -------------------------- ------------- 26.2/39.5 MB 4.9 MB/s eta 0:00:03\n",
      "   -------------------------- ------------- 26.5/39.5 MB 4.8 MB/s eta 0:00:03\n",
      "   --------------------------- ------------ 26.7/39.5 MB 4.7 MB/s eta 0:00:03\n",
      "   --------------------------- ------------ 27.0/39.5 MB 4.6 MB/s eta 0:00:03\n",
      "   --------------------------- ------------ 27.3/39.5 MB 4.5 MB/s eta 0:00:03\n",
      "   ---------------------------- ----------- 27.8/39.5 MB 4.3 MB/s eta 0:00:03\n",
      "   ---------------------------- ----------- 28.3/39.5 MB 4.3 MB/s eta 0:00:03\n",
      "   ----------------------------- ---------- 28.8/39.5 MB 4.2 MB/s eta 0:00:03\n",
      "   ----------------------------- ---------- 29.1/39.5 MB 4.2 MB/s eta 0:00:03\n",
      "   ------------------------------ --------- 29.6/39.5 MB 4.1 MB/s eta 0:00:03\n",
      "   ------------------------------ --------- 29.9/39.5 MB 4.0 MB/s eta 0:00:03\n",
      "   ------------------------------ --------- 30.4/39.5 MB 4.0 MB/s eta 0:00:03\n",
      "   ------------------------------- -------- 30.7/39.5 MB 3.9 MB/s eta 0:00:03\n",
      "   ------------------------------- -------- 30.9/39.5 MB 3.9 MB/s eta 0:00:03\n",
      "   ------------------------------- -------- 31.2/39.5 MB 3.8 MB/s eta 0:00:03\n",
      "   ------------------------------- -------- 31.2/39.5 MB 3.8 MB/s eta 0:00:03\n",
      "   ------------------------------- -------- 31.2/39.5 MB 3.8 MB/s eta 0:00:03\n",
      "   ------------------------------- -------- 31.5/39.5 MB 3.5 MB/s eta 0:00:03\n",
      "   ------------------------------- -------- 31.5/39.5 MB 3.5 MB/s eta 0:00:03\n",
      "   -------------------------------- ------- 31.7/39.5 MB 3.4 MB/s eta 0:00:03\n",
      "   -------------------------------- ------- 31.7/39.5 MB 3.4 MB/s eta 0:00:03\n",
      "   -------------------------------- ------- 32.0/39.5 MB 3.3 MB/s eta 0:00:03\n",
      "   -------------------------------- ------- 32.2/39.5 MB 3.3 MB/s eta 0:00:03\n",
      "   -------------------------------- ------- 32.5/39.5 MB 3.2 MB/s eta 0:00:03\n",
      "   --------------------------------- ------ 32.8/39.5 MB 3.2 MB/s eta 0:00:03\n",
      "   --------------------------------- ------ 33.0/39.5 MB 3.1 MB/s eta 0:00:03\n",
      "   --------------------------------- ------ 33.3/39.5 MB 3.1 MB/s eta 0:00:03\n",
      "   --------------------------------- ------ 33.6/39.5 MB 3.0 MB/s eta 0:00:02\n",
      "   ---------------------------------- ----- 33.8/39.5 MB 3.0 MB/s eta 0:00:02\n",
      "   ---------------------------------- ----- 34.3/39.5 MB 3.0 MB/s eta 0:00:02\n",
      "   ----------------------------------- ---- 34.6/39.5 MB 3.0 MB/s eta 0:00:02\n",
      "   ----------------------------------- ---- 34.9/39.5 MB 2.9 MB/s eta 0:00:02\n",
      "   ----------------------------------- ---- 35.1/39.5 MB 2.9 MB/s eta 0:00:02\n",
      "   ----------------------------------- ---- 35.4/39.5 MB 2.9 MB/s eta 0:00:02\n",
      "   ----------------------------------- ---- 35.4/39.5 MB 2.9 MB/s eta 0:00:02\n",
      "   ------------------------------------ --- 35.7/39.5 MB 2.8 MB/s eta 0:00:02\n",
      "   ------------------------------------ --- 35.9/39.5 MB 2.8 MB/s eta 0:00:02\n",
      "   ------------------------------------ --- 35.9/39.5 MB 2.8 MB/s eta 0:00:02\n",
      "   ------------------------------------ --- 36.2/39.5 MB 2.7 MB/s eta 0:00:02\n",
      "   ------------------------------------ --- 36.2/39.5 MB 2.7 MB/s eta 0:00:02\n",
      "   ------------------------------------ --- 36.4/39.5 MB 2.7 MB/s eta 0:00:02\n",
      "   ------------------------------------ --- 36.4/39.5 MB 2.7 MB/s eta 0:00:02\n",
      "   ------------------------------------- -- 36.7/39.5 MB 2.6 MB/s eta 0:00:02\n",
      "   ------------------------------------- -- 37.0/39.5 MB 2.6 MB/s eta 0:00:01\n",
      "   ------------------------------------- -- 37.0/39.5 MB 2.6 MB/s eta 0:00:01\n",
      "   ------------------------------------- -- 37.0/39.5 MB 2.6 MB/s eta 0:00:01\n",
      "   ------------------------------------- -- 37.2/39.5 MB 2.5 MB/s eta 0:00:01\n",
      "   ------------------------------------- -- 37.2/39.5 MB 2.5 MB/s eta 0:00:01\n",
      "   ------------------------------------- -- 37.2/39.5 MB 2.5 MB/s eta 0:00:01\n",
      "   ------------------------------------- -- 37.2/39.5 MB 2.5 MB/s eta 0:00:01\n",
      "   ------------------------------------- -- 37.5/39.5 MB 2.4 MB/s eta 0:00:01\n",
      "   ------------------------------------- -- 37.5/39.5 MB 2.4 MB/s eta 0:00:01\n",
      "   -------------------------------------- - 37.7/39.5 MB 2.3 MB/s eta 0:00:01\n",
      "   -------------------------------------- - 37.7/39.5 MB 2.3 MB/s eta 0:00:01\n",
      "   -------------------------------------- - 38.0/39.5 MB 2.3 MB/s eta 0:00:01\n",
      "   -------------------------------------- - 38.0/39.5 MB 2.3 MB/s eta 0:00:01\n",
      "   -------------------------------------- - 38.3/39.5 MB 2.3 MB/s eta 0:00:01\n",
      "   -------------------------------------- - 38.3/39.5 MB 2.3 MB/s eta 0:00:01\n",
      "   ---------------------------------------  38.5/39.5 MB 2.2 MB/s eta 0:00:01\n",
      "   ---------------------------------------  38.5/39.5 MB 2.2 MB/s eta 0:00:01\n",
      "   ---------------------------------------  38.8/39.5 MB 2.2 MB/s eta 0:00:01\n",
      "   ---------------------------------------  38.8/39.5 MB 2.2 MB/s eta 0:00:01\n",
      "   ---------------------------------------  38.8/39.5 MB 2.2 MB/s eta 0:00:01\n",
      "   ---------------------------------------  38.8/39.5 MB 2.2 MB/s eta 0:00:01\n",
      "   ---------------------------------------  39.1/39.5 MB 2.1 MB/s eta 0:00:01\n",
      "   ---------------------------------------  39.1/39.5 MB 2.1 MB/s eta 0:00:01\n",
      "   ---------------------------------------  39.3/39.5 MB 2.0 MB/s eta 0:00:01\n",
      "   ---------------------------------------  39.3/39.5 MB 2.0 MB/s eta 0:00:01\n",
      "   ---------------------------------------  39.3/39.5 MB 2.0 MB/s eta 0:00:01\n",
      "   ---------------------------------------- 39.5/39.5 MB 2.0 MB/s eta 0:00:00\n",
      "Installing collected packages: opencv-python\n",
      "Successfully installed opencv-python-4.11.0.86\n"
     ]
    }
   ],
   "source": [
    "!pip install numpy\n",
    "!pip install matplotlib\n",
    "!pip install opencv-python"
   ]
  },
  {
   "cell_type": "code",
   "execution_count": 2,
   "id": "56179430-0d4e-4aec-a60e-a8eb7ef3a7d5",
   "metadata": {},
   "outputs": [],
   "source": [
    "import cv2\n",
    "import numpy as np\n",
    "import matplotlib.pyplot as plt"
   ]
  },
  {
   "cell_type": "code",
   "execution_count": 49,
   "id": "9c75f5a0-b873-483a-9dbf-afdaa9954624",
   "metadata": {},
   "outputs": [],
   "source": [
    "img = cv2.imread(r\"C:\\Users\\krush\\Downloads\\WhatsApp Image 2025-01-26 at 11.13.23 PM.jpeg\")"
   ]
  },
  {
   "cell_type": "code",
   "execution_count": 51,
   "id": "e296a695-fc41-4248-831e-d0ffedfeb043",
   "metadata": {},
   "outputs": [
    {
     "name": "stdout",
     "output_type": "stream",
     "text": [
      "<class 'numpy.ndarray'>\n"
     ]
    }
   ],
   "source": [
    "print(type(img))"
   ]
  },
  {
   "cell_type": "code",
   "execution_count": null,
   "id": "4476c8ca-140b-4f90-ab8d-59198174481c",
   "metadata": {},
   "outputs": [],
   "source": [
    "cv2.imshow(\"bootcamp\",img)\n",
    "cv2.waitKey(0)\n",
    "cv2.destroyAllWindows()"
   ]
  },
  {
   "cell_type": "code",
   "execution_count": null,
   "id": "3be577d3-d0d4-46e2-855e-433387c4aed2",
   "metadata": {},
   "outputs": [],
   "source": [
    "img_resize = cv2.resize(img,(203,300))"
   ]
  },
  {
   "cell_type": "code",
   "execution_count": null,
   "id": "3768aeb4-761d-41a4-a8f9-4058619cebf8",
   "metadata": {},
   "outputs": [],
   "source": [
    "cv2.imshow(\"manya\",img_resize)\n",
    "cv2.waitKey(0)\n",
    "cv2.destroyAllWindows()"
   ]
  },
  {
   "cell_type": "code",
   "execution_count": null,
   "id": "b2bf7777-6a5c-4a9a-a480-f5fc3e368d96",
   "metadata": {},
   "outputs": [],
   "source": [
    "print(img_resize.shape)"
   ]
  },
  {
   "cell_type": "code",
   "execution_count": null,
   "id": "76a90f7d-e41d-4c48-9ba1-a2e3fd5a9a06",
   "metadata": {},
   "outputs": [],
   "source": [
    "img_flip = cv2.flip(img,1)"
   ]
  },
  {
   "cell_type": "code",
   "execution_count": null,
   "id": "55f8ce9e-1328-4871-b287-bfc524377bf2",
   "metadata": {},
   "outputs": [],
   "source": [
    "cv2.imshow(\"flipped Image\",img_flip)\n",
    "cv2.waitKey(0)\n",
    "cv2.destroyAllWindows()"
   ]
  },
  {
   "cell_type": "code",
   "execution_count": null,
   "id": "b57799ce-e079-41b3-ab95-3e275c771c6b",
   "metadata": {},
   "outputs": [],
   "source": [
    "img_crop = img[100:300,200:500]"
   ]
  },
  {
   "cell_type": "code",
   "execution_count": null,
   "id": "76c40892-28d7-44a0-b68b-71269590976f",
   "metadata": {},
   "outputs": [],
   "source": [
    "cv2.imshow(\"Cropped Image\",img_crop)\n",
    "cv2.waitKey(0)\n",
    "cv2.destroyAllWindows()"
   ]
  },
  {
   "cell_type": "code",
   "execution_count": null,
   "id": "e37eb787-0454-43cf-81c6-cd45ab9e7e7a",
   "metadata": {},
   "outputs": [],
   "source": [
    "cv2.imwrite(r\"croppedImg16.jpg\",img_crop)"
   ]
  },
  {
   "cell_type": "code",
   "execution_count": null,
   "id": "9b7b51fb-e939-4d0d-b610-c96eb732320e",
   "metadata": {},
   "outputs": [],
   "source": []
  }
 ],
 "metadata": {
  "kernelspec": {
   "display_name": "Python [conda env:base] *",
   "language": "python",
   "name": "conda-base-py"
  },
  "language_info": {
   "codemirror_mode": {
    "name": "ipython",
    "version": 3
   },
   "file_extension": ".py",
   "mimetype": "text/x-python",
   "name": "python",
   "nbconvert_exporter": "python",
   "pygments_lexer": "ipython3",
   "version": "3.12.7"
  }
 },
 "nbformat": 4,
 "nbformat_minor": 5
}
